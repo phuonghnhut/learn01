{
  "nbformat": 4,
  "nbformat_minor": 0,
  "metadata": {
    "kernelspec": {
      "display_name": "Python 3",
      "language": "python",
      "name": "python3"
    },
    "language_info": {
      "codemirror_mode": {
        "name": "ipython",
        "version": 3
      },
      "file_extension": ".py",
      "mimetype": "text/x-python",
      "name": "python",
      "nbconvert_exporter": "python",
      "pygments_lexer": "ipython3",
      "version": "3.6.5"
    },
    "colab": {
      "name": "choosing-plot-types-and-custom-styles.ipynb",
      "provenance": [],
      "include_colab_link": true
    }
  },
  "cells": [
    {
      "cell_type": "markdown",
      "metadata": {
        "id": "view-in-github",
        "colab_type": "text"
      },
      "source": [
        "<a href=\"https://colab.research.google.com/github/phuonghnhut/learn01/blob/main/choosing_plot_types_and_custom_styles.ipynb\" target=\"_parent\"><img src=\"https://colab.research.google.com/assets/colab-badge.svg\" alt=\"Open In Colab\"/></a>"
      ]
    },
    {
      "cell_type": "markdown",
      "metadata": {
        "id": "SRQr6dXE-bVQ"
      },
      "source": [
        "In this micro-course, you've learned how to create many different chart types.  Now, you'll organize your knowledge, before learning some quick commands that you can use to change the style of your charts."
      ]
    },
    {
      "cell_type": "markdown",
      "metadata": {
        "id": "8Y8FVwVF-bVX"
      },
      "source": [
        "# What have you learned?\n",
        "\n",
        "<img src=\"https://imgur.com/2VmgDnF.png\" height=\"500\" width=\"1000\" usemap=\"#plottingmap\" />\n",
        "<map name=\"plottingmap\">\n",
        "  <area shape=\"rect\" coords=\"262,342,402,476\" href=\"https://www.kaggle.com/alexisbcook/hello-seaborn\" title=\"EXAMPLE: sns.lineplot(data=my_data)\">\n",
        "  <area shape=\"rect\" coords=\"8,75,154,200\" href=\"https://www.kaggle.com/alexisbcook/bar-charts-and-heatmaps\" title=\"EXAMPLE: sns.swarmplot(x=my_data['Column 1'], y=my_data['Column 2'])\">\n",
        "   <area shape=\"rect\" coords=\"8,200,154,350\" href=\"https://www.kaggle.com/alexisbcook/bar-charts-and-heatmaps\" title=\"EXAMPLE: sns.regplot(x=my_data['Column 1'], y=my_data['Column 2'])\">\n",
        "   <area shape=\"rect\" coords=\"8,350,154,500\" href=\"https://www.kaggle.com/alexisbcook/bar-charts-and-heatmaps\" title='EXAMPLE: sns.lmplot(x=\"Column 1\", y=\"Column 2\", hue=\"Column 3\", data=my_data)'>\n",
        "      <area shape=\"rect\" coords=\"229,10,393,160\" href=\"https://www.kaggle.com/alexisbcook/bar-charts-and-heatmaps\" title=\"EXAMPLE: sns.scatterplot(x=my_data['Column 1'], y=my_data['Column 2'], hue=my_data['Column 3'])\">\n",
        "     <area shape=\"rect\" coords=\"397,10,566,160\" href=\"https://www.kaggle.com/alexisbcook/line-charts\" title=\"EXAMPLE: sns.heatmap(data=my_data)\">\n",
        "     <area shape=\"rect\" coords=\"565,10,711,160\" href=\"https://www.kaggle.com/alexisbcook/line-charts\" title=\"EXAMPLE: sns.barplot(x=my_data.index, y=my_data['Column'])\">\n",
        "     <area shape=\"rect\" coords=\"780,55,940,210\" href=\"https://www.kaggle.com/alexisbcook/scatter-plots\" title=\"EXAMPLE: sns.jointplot(x=my_data['Column 1'], y=my_data['Column 2'], kind='kde')\">\n",
        "     <area shape=\"rect\" coords=\"780,210,940,350\" href=\"https://www.kaggle.com/alexisbcook/scatter-plots\" title=\"EXAMPLE: sns.kdeplot(data=my_data['Column'], shade=True)\">\n",
        "   <area shape=\"rect\" coords=\"780,360,1000,500\" href=\"https://www.kaggle.com/alexisbcook/scatter-plots\" title=\"EXAMPLE: sns.distplot(a=my_data['Column'], kde=False)\">\n",
        "</map>\n",
        "\n",
        "Since it's not always easy to decide how to best tell the story behind your data, we've broken the chart types into three broad categories to help with this.\n",
        "- **Trends** - A trend is defined as a pattern of change.\n",
        "    - `sns.lineplot` - **Line charts** are best to show trends over a period of time, and multiple lines can be used to show trends in more than one group.\n",
        "- **Relationship** - There are many different chart types that you can use to understand relationships between variables in your data.\n",
        "    - `sns.barplot` - **Bar charts** are useful for comparing quantities corresponding to different groups.\n",
        "    - `sns.heatmap` - **Heatmaps** can be used to find color-coded patterns in tables of numbers.\n",
        "    - `sns.scatterplot` - **Scatter plots** show the relationship between two continuous variables; if color-coded, we can also show the relationship with a third [categorical variable](https://en.wikipedia.org/wiki/Categorical_variable).\n",
        "    - `sns.regplot` - Including a **regression line** in the scatter plot makes it easier to see any linear relationship between two variables.\n",
        "    - `sns.lmplot` - This command is useful for drawing multiple regression lines, if the scatter plot contains multiple, color-coded groups.\n",
        "    - `sns.swarmplot` - **Categorical scatter plots** show the relationship between a continuous variable and a categorical variable.\n",
        "- **Distribution** - We visualize distributions to show the possible values that we can expect to see in a variable, along with how likely they are.\n",
        "    - `sns.distplot` - **Histograms** show the distribution of a single numerical variable.\n",
        "    - `sns.kdeplot` - **KDE plots** (or **2D KDE plots**) show an estimated, smooth distribution of a single numerical variable (or two numerical variables).\n",
        "    - `sns.jointplot` - This command is useful for simultaneously displaying a 2D KDE plot with the corresponding KDE plots for each individual variable.\n",
        "    \n",
        "# Changing styles with seaborn\n",
        "\n",
        "All of the commands have provided a nice, default style to each of the plots.  However, you may find it useful to customize how your plots look, and thankfully, this can be accomplished by just adding one more line of code!\n",
        "\n",
        "As always, we need to begin by setting up the coding environment.  (_This code is hidden, but you can un-hide it by clicking on the \"Code\" button immediately below this text, on the right._)"
      ]
    },
    {
      "cell_type": "code",
      "metadata": {
        "_kg_hide-input": true,
        "_kg_hide-output": true,
        "id": "An7sSsTz-bVY"
      },
      "source": [
        "\n",
        "import pandas as pd\n",
        "pd.plotting.register_matplotlib_converters()\n",
        "import matplotlib.pyplot as plt\n",
        "%matplotlib inline\n",
        "import seaborn as sns\n",
        "print(\"Setup Complete\")"
      ],
      "execution_count": null,
      "outputs": []
    },
    {
      "cell_type": "markdown",
      "metadata": {
        "id": "rU5BWoxK-bVh"
      },
      "source": [
        "We'll work with the same code that we used to create a line chart in a previous tutorial.  The code below loads the dataset and creates the chart."
      ]
    },
    {
      "cell_type": "markdown",
      "metadata": {
        "id": "e31Lrl4P-bVp"
      },
      "source": [
        "We can quickly change the style of the figure to a different theme with only a single line of code.  "
      ]
    },
    {
      "cell_type": "code",
      "metadata": {
        "id": "PZXde2Os-bVq"
      },
      "source": [
        "# Change the style of the figure to the \"dark\" theme\n",
        "sns.set_style(\"dark\")\n",
        "\n",
        "# Line chart \n",
        "plt.figure(figsize=(12,6))\n",
        "sns.lineplot(data=spotify_data)"
      ],
      "execution_count": null,
      "outputs": []
    },
    {
      "cell_type": "markdown",
      "metadata": {
        "id": "Uf-eEbc3-bVx"
      },
      "source": [
        "Seaborn has five different themes: (1)`\"darkgrid\"`, (2)`\"whitegrid\"`, (3)`\"dark\"`, (4)`\"white\"`, and (5)`\"ticks\"`, and you need only use a command similar to the one in the code cell above (with the chosen theme filled in) to change it.  \n",
        "\n",
        "In the upcoming exercise, you'll experiment with these themes to see which one you like most!\n",
        "\n",
        "# What's next?\n",
        "\n",
        "Explore seaborn styles in a quick **[coding exercise](https://www.kaggle.com/kernels/fork/2959763)**!"
      ]
    },
    {
      "cell_type": "markdown",
      "metadata": {
        "id": "zBYl6g_y-bVy"
      },
      "source": [
        "---\n",
        "\n",
        "\n",
        "\n",
        "\n",
        "*Have questions or comments? Visit the [Learn Discussion forum](https://www.kaggle.com/learn-forum/161291) to chat with other Learners.*"
      ]
    }
  ]
}