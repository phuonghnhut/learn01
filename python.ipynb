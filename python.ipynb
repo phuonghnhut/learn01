{
  "nbformat": 4,
  "nbformat_minor": 0,
  "metadata": {
    "colab": {
      "name": "python.ipynb",
      "provenance": [],
      "collapsed_sections": [],
      "authorship_tag": "ABX9TyMHdzOopJO4z8/UXnKIJM6z",
      "include_colab_link": true
    },
    "kernelspec": {
      "name": "python3",
      "display_name": "Python 3"
    }
  },
  "cells": [
    {
      "cell_type": "markdown",
      "metadata": {
        "id": "view-in-github",
        "colab_type": "text"
      },
      "source": [
        "<a href=\"https://colab.research.google.com/github/phuonghnhut/learn01/blob/main/python.ipynb\" target=\"_parent\"><img src=\"https://colab.research.google.com/assets/colab-badge.svg\" alt=\"Open In Colab\"/></a>"
      ]
    },
    {
      "cell_type": "markdown",
      "metadata": {
        "id": "HlUoFaFwiWFy"
      },
      "source": [
        "# Sử dụng python như máy tính"
      ]
    },
    {
      "cell_type": "code",
      "metadata": {
        "colab": {
          "base_uri": "https://localhost:8080/"
        },
        "id": "qJ-pmAwYfchR",
        "outputId": "8e0e7aeb-d85f-431d-fa6b-aa957f866edb"
      },
      "source": [
        "# +, -, *, /(chia dư), //(chia lấy phần nguyên), %(chia lấy phần dư)\n",
        "print(13/3) # chia có dư\n",
        "print(13//3) # chia lấy phần nguyên\n",
        "print(13%3) # chia lấy phần dư"
      ],
      "execution_count": 3,
      "outputs": [
        {
          "output_type": "stream",
          "text": [
            "4.333333333333333\n",
            "4\n",
            "1\n"
          ],
          "name": "stdout"
        }
      ]
    },
    {
      "cell_type": "markdown",
      "metadata": {
        "id": "YFiPEb4ujpr4"
      },
      "source": [
        "# Chuỗi \n",
        "- Chuỗi có thể được đặt trong dấu '...' hoặc \"...\"\n",
        "```python\n",
        "print('Hello world')\n",
        "print(\"Hello world\")\n",
        "```\n",
        "- Nếu không muốn ký tự bắt đầu bằng \\ được hiểu là kí tự đặt biệt ta thêm r phía trước\n",
        "```python\n",
        "  print(r'\\C:user\\doc')\n",
        "```\n",
        "- Chuỗi có thể kéo dài trên nhiều dòng\n",
        "```python\n",
        "print(\"\"\"\\\n",
        "Usage: thingy [OPTIONS]\n",
        "     -h                                Display this usage message\n",
        "     -H hostname               Hostname to connect to\n",
        "\"\"\")\n",
        "```\n",
        "- Chuỗi có thể nối bằng toán tử + và lặp lại bằng *\n",
        "```python\n",
        "print(3 * 'un' + 'ium')\n",
        "````\n",
        "- Các chuỗi có thể được lập chỉ mục, với kí tự đầu tiên với chỉ số 0. Một kí tự chỉ đơn giản là một chuỗi có kích thước là một.\n",
        "```python\n",
        ">>>word = 'Python'\n",
        ">>>word[0]\n",
        "'P'\n",
        "```\n",
        "- Các chí số cũng có thể là số âm, bắt đầu từ bên phải\n",
        "```python\n",
        ">>>word[-1]\n",
        "'n'\n",
        "```\n",
        "```python\n",
        "'''\n",
        " +---+---+---+---+---+---+\n",
        " | P | y | t | h | o | n |\n",
        " +---+---+---+---+---+---+\n",
        "  0   1   2   3   4   5   6\n",
        " -6  -5  -4  -3  -2  -1\n",
        "'''\n",
        "```"
      ]
    },
    {
      "cell_type": "markdown",
      "metadata": {
        "id": "JW3gYh26obUC"
      },
      "source": [
        "# Danh sách\n",
        "- Python biết một số kiểu dữ liệu phức tạp, được sử dụng để nhóm các giá trị khác lại với nhau. Linh hoạt nhất là danh sách, có thể được viết dưới dạng danh sách các giá trị được phân tách bằng dấu phẩy giữa các dấu ngoặc vuông. \n",
        "```python\n",
        ">>> squares = [1, 4, 9, 16, 25]\n",
        "```\n",
        "- Danh sách lập chỉ mục giống như chuỗi\n",
        "```python\n",
        ">>> squares[0]  \n",
        "1\n",
        ">>> squares[-1]\n",
        "25\n",
        ">>> squares[-3:]  \n",
        "[9, 16, 25]\n",
        ">>> squares[:] # trả về một bản sao của danh sách\n",
        "[1, 4, 9, 16, 25]\n",
        "```\n",
        "- Danh sách chúng ta có thể thay đổi nội dung của chúng\n",
        "```python\n",
        ">>> squares[0]  = 3\n",
        ">>> squares[:]  \n",
        "[3, 4, 9, 16, 25]\n",
        "```"
      ]
    },
    {
      "cell_type": "code",
      "metadata": {
        "colab": {
          "base_uri": "https://localhost:8080/"
        },
        "id": "hgzrYV9oip4k",
        "outputId": "543e2264-30b0-41b3-d9f2-45f6d5b93ebd"
      },
      "source": [
        "# dãy fibonacci < 10\n",
        "a, b = 0, 1 # chứa nhiều phép gán a = 0, b = 1\n",
        "while a < 10:\n",
        "  print(a, end=', ')\n",
        "  a, b  = b, a+b"
      ],
      "execution_count": 8,
      "outputs": [
        {
          "output_type": "stream",
          "text": [
            "0, 1, 1, 2, 3, 5, 8, "
          ],
          "name": "stdout"
        }
      ]
    },
    {
      "cell_type": "markdown",
      "metadata": {
        "id": "YAANhdOAr8o8"
      },
      "source": [
        "# Điều khiển\n",
        " - if câu lệnh nổi tiếng nhất\n",
        " ```python\n",
        " >>> x = int(input(\"Please enter an integer: \"))\n",
        "Please enter an integer: 42\n",
        ">>> if x < 0:\n",
        "...     x = 0\n",
        "...     print('Negative changed to zero')\n",
        "... elif x == 0:\n",
        "...     print('Zero')\n",
        "... elif x == 1:\n",
        "...     print('Single')\n",
        "... else:\n",
        "...     print('More')\n",
        "```\n",
        "- Từ khóa elif viết tắt của else if\n",
        "\n",
        "- for: Câu lệnh for trong python hơi khác chút so với C, Pascal. Thay vì luôn lặp theo cấp số cộng (như trong Pascal) hoặc cung cấp cả bước lặp và điều kiện dừng (như C), for trong python lặp qua các chỉ mục của bất kì chuỗi nào.\n",
        "```python\n",
        ">>> words = ['cat', 'window', 'defenestrate']\n",
        ">>> for w in words:\n",
        "...     print(w, len(w))\n",
        "...\n",
        "cat 3\n",
        "window 6\n",
        "defenestrate 12\n",
        "```\n",
        "  - Nếu bạn lặp lại một dãy số hàm range() sẽ rất hữu ích. Nó tạo ra các số cấp số cộng:\n",
        "```python\n",
        ">>> for i in range(5):\n",
        "...     print(i)\n",
        "...\n",
        "0\n",
        "1\n",
        "2\n",
        "3\n",
        "4\n",
        "```\n",
        "```python\n",
        ">>> print(range(10))\n",
        "range(0, 10)\n",
        "```\n",
        " - Theo nhiều cách, đối tượng được trả về range() hoạt động như thể nó là một danh sách, nhưng trên thực tế thì không. Nó là một đối tượng trả về các mục liên tiếp của chuỗi mong muốn khi bạn lặp lại nó, nhưng nó không thực sự tạo danh sách, do đó tiết kiệm không gian.\n",
        "\n",
        "- break, continue, else:\n",
        "  - câu lệnh break giống như trong c, thoát khỏi vòng lặp for hoặc vòng while trong cùng\n",
        "```python\n",
        ">>> for n in range(2, 10):\n",
        "...     for x in range(2, n):\n",
        "...         if n % x == 0:\n",
        "...             print(n, 'equals', x, '*', n//x)\n",
        "...             break\n",
        "...     else:\n",
        "...         # loop fell through without finding a factor\n",
        "...         print(n, 'is a prime number')\n",
        "...\n",
        "2 is a prime number\n",
        "3 is a prime number\n",
        "4 equals 2 * 2\n",
        "5 is a prime number\n",
        "6 equals 2 * 3\n",
        "7 is a prime number\n",
        "8 equals 2 * 4\n",
        "9 equals 3 * 3\n",
        "```\n",
        "  - chú ý else cùng cấp với for, else mà không có if phía trước. else của for chạy khi không có break xảy ra.\n",
        "- pass: \n",
        "  - Tuyên bố không có gì\n",
        "  - Một nơi khác pass có thể được sử dụng như nơi giữ chổ cho một hàm hoặc phần thân có điều kiện khi bạn đang làm việc trên mã mới, cho phép bạn suy nghĩ ở mức độ trừu tượng hơn.\n",
        "- Định nghĩa hàm:\n",
        "```python\n",
        ">>> def fib(n):    # write Fibonacci series up to n\n",
        "...     \"\"\"Print a Fibonacci series up to n.\"\"\"\n",
        "...     a, b = 0, 1\n",
        "...     while a < n:\n",
        "...         print(a, end=' ')\n",
        "...         a, b = b, a+b\n",
        "...     print()\n",
        "...\n",
        ">>> # Now call the function we just defined:\n",
        "... fib(2000)\n",
        "0 1 1 2 3 5 8 13 21 34 55 89 144 233 377 610 987 1597\n",
        "```\n",
        "  - Từ khóa def được dùng để định nghĩa một hàm\n",
        "- lambda: \n",
        "  - Các hàm ẩn danh nhỏ có thể được tạo bằng từ khóa lambda\n",
        "  ```python\n",
        "  >>> def make_incrementor(n):\n",
        "...     return lambda x: x + n\n",
        "...\n",
        ">>> f = make_incrementor(42)\n",
        ">>> f(0)\n",
        "42\n",
        ">>> f(1)\n",
        "43\n",
        "```\n",
        "- Chuỗi tài liệu:\n",
        "  - Dưới đây là một số quy ước về nội dùng và định dạng chuỗi tài liệu.\n",
        "  - Dòng đầu tiên phải luôn luôn là bản tóm tắt ngắn gọn, súc tích về mục đích của đối tượng. Để ngắn gọn, nó không nêu rõ ràng tên hoặc kiểu của đối tượng. Dòng này phải bắt đầu bằng một chữ các in hoa và kết thúc bằng dấu châm.\n",
        "  - Dòng thứ hai nếu có là để trống\n",
        "  ```python\n",
        "  >>> def my_function():\n",
        "...     \"\"\"Do nothing, but document it.\n",
        "...\n",
        "...     No, really, it doesn't do anything.\n",
        "...     \"\"\"\n",
        "...     pass\n",
        "...\n",
        ">>> print(my_function.__doc__)\n",
        "Do nothing, but document it.\n",
        "\n",
        "    No, really, it doesn't do anything.\n",
        "    ```"
      ]
    },
    {
      "cell_type": "markdown",
      "metadata": {
        "id": "uGmguMvY4Hun"
      },
      "source": [
        "# Cấu trúc dữ liệu\n",
        "- List:\n",
        "  - Các giá trị đồng nhất và có thể thay đổi.\n",
        "- Tuples:\n",
        "  - Một bộ giá trị bao gồm một số giá trị được phân tách bằng dấu phẩy.\n",
        "  ```python\n",
        "  >>> t = 12345, 54321, 'hello!'\n",
        ">>> t[0]\n",
        "12345\n",
        ">>> t\n",
        "(12345, 54321, 'hello!')\n",
        ">>> x, y, z = t # giải nén truy cập tuple\n",
        "```\n",
        "  - Một tuple có vẻ tương tự như danh sách, nhưng chúng thường được sử dụng trong các trường hợp khác nhau và cho các mục đích khác nhau. Các tuple là bất biến  và thường chứa một chuỗi phần tử không đồng nhất được truy cập thông qua giải nén hoặc lập chỉ mục. Danh sách có thể thay đổi và các phần tử của chúng thường đồng nhất và chúng được truy cập bằng cách lặp qua danh sách.\n",
        "- set:\n",
        "  - set là tập hợp không có thứ tự không có phần tử trùng. Sử dụng vào mục đích kiểm tra thành viên và loại bỏ phần tử trùng.\n",
        "- từ điển:\n",
        "  - Nghĩ về từ điển như một tập hợp các cặp khóa:giá trị, với yêu cầu khóa là duy nhất\n"
      ]
    },
    {
      "cell_type": "markdown",
      "metadata": {
        "id": "D3PRdSIZ9KNP"
      },
      "source": [
        "- Kỹ thuật lặp:\n",
        "  - khi lặp qua từ điển, khóa và giá trị có thể truy xuất cùng lúc bằng \n",
        "  ```python\n",
        "  >>> knights = {'gallahad': 'the pure', 'robin': 'the brave'}\n",
        ">>> for k, v in knights.items():\n",
        "...     print(k, v)\n",
        "...\n",
        "gallahad the pure\n",
        "robin the brave\n",
        "```\n",
        "  - Khi lặp qua chuỗi, chỉ số vị trí và giá trị tương ứng có thể truy xuất cùng một lúc bằng cách sử dụng enumerate():\n",
        "  ```python\n",
        "  >>> for i, v in enumerate(['tic', 'tac', 'toe']):\n",
        "...     print(i, v)\n",
        "...\n",
        "0 tic\n",
        "1 tac\n",
        "2 toe\n",
        "```"
      ]
    },
    {
      "cell_type": "code",
      "metadata": {
        "id": "9IrLOOGCru04"
      },
      "source": [
        ""
      ],
      "execution_count": null,
      "outputs": []
    }
  ]
}